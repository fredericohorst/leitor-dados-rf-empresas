{
 "metadata": {
  "language_info": {
   "codemirror_mode": {
    "name": "ipython",
    "version": 3
   },
   "file_extension": ".py",
   "mimetype": "text/x-python",
   "name": "python",
   "nbconvert_exporter": "python",
   "pygments_lexer": "ipython3",
   "version": "3.9.1"
  },
  "orig_nbformat": 2,
  "kernelspec": {
   "name": "python3",
   "display_name": "Python 3",
   "language": "python"
  }
 },
 "nbformat": 4,
 "nbformat_minor": 2,
 "cells": [
  {
   "source": [
    "# Dados Abertos - Cadastros de Empresas Brasileiras\n",
    "\n",
    "Fazendo o download e descompactando os arquivos:"
   ],
   "cell_type": "markdown",
   "metadata": {}
  },
  {
   "cell_type": "code",
   "execution_count": 3,
   "metadata": {},
   "outputs": [],
   "source": [
    "# bibliotecas\n",
    "import os \n",
    "import utils\n",
    "import leitor\n",
    "from pyspark.sql import SparkSession, SQLContext\n",
    "\n",
    "\n",
    "# spark configs:\n",
    "spark_session = SparkSession.builder \\\n",
    "        .master(\"local\") \\\n",
    "        .appName(\"leitor-dados-rf-empresas\") \\\n",
    "        .config(\"spark.some.config.option\", \"some-value\") \\\n",
    "        .getOrCreate()\n",
    "\n",
    "sqlContext = SQLContext(spark_session)\n",
    "\n",
    "# buscando as variáveis\n",
    "path = os.getcwd()\n",
    "zipped = path + '/arquivos-zip/'\n",
    "unzipped = path + '/arquivos-unzip/'\n"
   ]
  },
  {
   "cell_type": "code",
   "execution_count": null,
   "metadata": {},
   "outputs": [],
   "source": [
    "\n",
    "# arquivos contendo as urls de download\n",
    "lista_urls = ['outros.txt','empresas.txt', 'estabelecimentos.txt','socios.txt']\n",
    "\n",
    "# iniciando o download:\n",
    "utils.downloader(arquivos_urls=lista_urls, prefixo=zipped,destino=zipped)\n"
   ]
  },
  {
   "cell_type": "code",
   "execution_count": 3,
   "metadata": {},
   "outputs": [
    {
     "output_type": "stream",
     "name": "stdout",
     "text": [
      "arquivo descompactado:  K3241.K03200Y9.D10510.ESTABELE.zip\n",
      "arquivo descompactado:  K3241.K03200Y8.D10510.ESTABELE.zip\n",
      "arquivo descompactado:  K3241.K03200Y7.D10510.ESTABELE.zip\n",
      "arquivo descompactado:  K3241.K03200Y6.D10510.ESTABELE.zip\n",
      "arquivo descompactado:  K3241.K03200Y5.D10510.ESTABELE.zip\n",
      "arquivo descompactado:  K3241.K03200Y4.D10510.ESTABELE.zip\n",
      "arquivo descompactado:  F.K03200$Z.D10510.PAISCSV.zip\n",
      "arquivo descompactado:  K3241.K03200Y2.D10510.ESTABELE.zip\n",
      "arquivo descompactado:  K3241.K03200Y3.D10510.ESTABELE.zip\n",
      "arquivo descompactado:  K3241.K03200Y0.D10510.ESTABELE.zip\n",
      "arquivo descompactado:  F.K03200$Z.D10510.MOTICSV.zip\n",
      "arquivo descompactado:  K3241.K03200Y1.D10510.ESTABELE.zip\n",
      "arquivo descompactado:  K3241.K03200Y4.D10510.EMPRECSV.zip\n",
      "arquivo descompactado:  K3241.K03200Y2.D10510.SOCIOCSV.zip\n",
      "arquivo descompactado:  K3241.K03200Y3.D10510.SOCIOCSV.zip\n",
      "arquivo descompactado:  K3241.K03200Y5.D10510.EMPRECSV.zip\n",
      "arquivo descompactado:  K3241.K03200Y6.D10510.EMPRECSV.zip\n",
      "arquivo descompactado:  K3241.K03200Y0.D10510.SOCIOCSV.zip\n",
      "arquivo descompactado:  F.K03200$Z.D10510.NATJUCSV.zip\n",
      "arquivo descompactado:  K3241.K03200Y1.D10510.SOCIOCSV.zip\n",
      "arquivo descompactado:  K3241.K03200Y7.D10510.EMPRECSV.zip\n",
      "arquivo descompactado:  F.K03200$Z.D10510.CNAECSV.zip\n",
      "arquivo descompactado:  K3241.K03200Y1.D10510.EMPRECSV.zip\n",
      "arquivo descompactado:  K3241.K03200Y7.D10510.SOCIOCSV.zip\n",
      "arquivo descompactado:  K3241.K03200Y6.D10510.SOCIOCSV.zip\n",
      "arquivo descompactado:  F.K03200$Z.D10510.QUALSCSV.zip\n",
      "arquivo descompactado:  K3241.K03200Y0.D10510.EMPRECSV.zip\n",
      "arquivo descompactado:  K3241.K03200Y3.D10510.EMPRECSV.zip\n",
      "arquivo descompactado:  K3241.K03200Y5.D10510.SOCIOCSV.zip\n",
      "arquivo descompactado:  F.K03200$Z.D10510.MUNICCSV.zip\n",
      "arquivo descompactado:  K3241.K03200Y4.D10510.SOCIOCSV.zip\n",
      "arquivo descompactado:  K3241.K03200Y2.D10510.EMPRECSV.zip\n",
      "arquivo descompactado:  K3241.K03200Y9.D10510.SOCIOCSV.zip\n",
      "arquivo descompactado:  K3241.K03200Y8.D10510.SOCIOCSV.zip\n",
      "arquivo descompactado:  F.K03200$W.SIMPLES.CSV.D10510.zip\n",
      "arquivo descompactado:  K3241.K03200Y8.D10510.EMPRECSV.zip\n",
      "arquivo descompactado:  K3241.K03200Y9.D10510.EMPRECSV.zip\n"
     ]
    },
    {
     "output_type": "execute_result",
     "data": {
      "text/plain": [
       "'arquivos descompactados com sucesso'"
      ]
     },
     "metadata": {},
     "execution_count": 3
    }
   ],
   "source": [
    "# iniciando o descompactador:\n",
    "utils.descompactando(caminho_do_arquivo=zipped, tipo_arquivo='.zip',destino=unzipped)"
   ]
  },
  {
   "source": [
    "## Perfil dos Empresários do Brasil\n"
   ],
   "cell_type": "markdown",
   "metadata": {}
  },
  {
   "cell_type": "code",
   "execution_count": 2,
   "metadata": {},
   "outputs": [
    {
     "output_type": "stream",
     "name": "stdout",
     "text": [
      "+-----------+----------------------+--------------------+--------------+---------------------+-------------------------+----+-------------------+---------------------+-----------------------------------+------------+---------+------------------+\n|cnpj_basico|identificador_de_socio|       nome_do_socio|cnpj_cpf_socio|qualificacao_do_socio|data_de_entrada_sociedade|pais|representante_legal|nome_do_representante|qualificacao_do_representante_legal|faixa_etaria|cod_faixa| desc_faixa_etaria|\n+-----------+----------------------+--------------------+--------------+---------------------+-------------------------+----+-------------------+---------------------+-----------------------------------+------------+---------+------------------+\n|   32067153|                     2| DELCI BEAL MARTELLI|   ***407511**|                   22|                 20181121|null|        ***000000**|                 null|                                 00|           7|        7|Entre 61 a 70 anos|\n|   32067153|                     2|MARISA FAVERO MAR...|   ***781189**|                   22|                 20181121|null|        ***000000**|                 null|                                 00|           6|        6|Entre 51 a 60 anos|\n|   32067153|                     2|MARIA CLAIR MARSA...|   ***279061**|                   22|                 20181121|null|        ***000000**|                 null|                                 00|           6|        6|Entre 51 a 60 anos|\n|   32067153|                     2|CLERIN ZANCHET MA...|   ***304041**|                   22|                 20181121|null|        ***000000**|                 null|                                 00|           6|        6|Entre 51 a 60 anos|\n|   32067153|                     2|LUIZ FERNANDO MAR...|   ***690981**|                   05|                 20181121|null|        ***000000**|                 null|                                 00|           5|        5|Entre 41 a 50 anos|\n|   32067218|                     2|     MARINILCE CHINI|   ***732179**|                   22|                 20181121|null|        ***000000**|                 null|                                 00|           5|        5|Entre 41 a 50 anos|\n|   32067218|                     2| ANGELICO DOS SANTOS|   ***601889**|                   49|                 20181121|null|        ***000000**|                 null|                                 00|           5|        5|Entre 41 a 50 anos|\n|   31389204|                     2|LUCIA MAURICEIA D...|   ***822679**|                   49|                 20180831|null|        ***000000**|                 null|                                 00|           4|        4|Entre 31 a 40 anos|\n|   31389204|                     2|JORGE AUGUSTO DA ...|   ***250060**|                   22|                 20180831|null|        ***000000**|                 null|                                 00|           6|        6|Entre 51 a 60 anos|\n|   32067299|                     1|TARGET CARE DISPO...|28228293000188|                   31|                 20181101|null|        ***000000**|                 null|                                 00|           0|        0|     Nao se aplica|\n+-----------+----------------------+--------------------+--------------+---------------------+-------------------------+----+-------------------+---------------------+-----------------------------------+------------+---------+------------------+\nonly showing top 10 rows\n\n"
     ]
    },
    {
     "output_type": "execute_result",
     "data": {
      "text/plain": [
       "'tabela de socios carregada com sucesso'"
      ]
     },
     "metadata": {},
     "execution_count": 2
    }
   ],
   "source": [
    "# carregando os dados\n",
    "leitor.importador_socios(arquivo='arquivos-unzip/K3241.K03200Y*.D10510.SOCIOCSV',separador=';',previsualizacao=True)\n"
   ]
  },
  {
   "cell_type": "code",
   "execution_count": 4,
   "metadata": {},
   "outputs": [
    {
     "output_type": "stream",
     "name": "stdout",
     "text": [
      "+------------------+----------+\n| desc_faixa_etaria|frequencia|\n+------------------+----------+\n|Entre 41 a 50 anos|   4996667|\n|Entre 51 a 60 anos|   4408887|\n|Entre 31 a 40 anos|   4003292|\n|Entre 61 a 70 anos|   3067004|\n|Entre 71 a 80 anos|   1396683|\n|Entre 21 a 30 anos|   1314494|\n|Maiores de 80 anos|    669071|\n|     Nao se aplica|    423804|\n|Entre 13 a 20 anos|    116835|\n| Entre 0 a 12 anos|     29680|\n+------------------+----------+\n\n"
     ]
    }
   ],
   "source": [
    "# empresarios por idade\n",
    "query_idade = \"\"\"\n",
    "    SELECT \n",
    "        desc_faixa_etaria,\n",
    "        COUNT(cnpj_basico) AS frequencia\n",
    "    FROM socios\n",
    "    GROUP BY 1 \n",
    "    ORDER BY 2 DESC\n",
    "    \"\"\"\n",
    "por_idade = sqlContext.sql(query_idade)\n",
    "por_idade.show()\n"
   ]
  },
  {
   "cell_type": "code",
   "execution_count": null,
   "metadata": {},
   "outputs": [],
   "source": []
  },
  {
   "cell_type": "code",
   "execution_count": null,
   "metadata": {},
   "outputs": [],
   "source": []
  }
 ]
}