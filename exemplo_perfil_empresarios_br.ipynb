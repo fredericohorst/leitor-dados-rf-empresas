{
 "cells": [
  {
   "cell_type": "markdown",
   "metadata": {},
   "source": [
    "# Dados Abertos - Cadastros de Empresas Brasileiras\n",
    "## Arquivo Exemplo - como se utilizar das bibliotecas deste projeto\n",
    "\n",
    "Primeiramente vamos fazer o download dos arquivos usando o bash:"
   ]
  },
  {
   "cell_type": "code",
   "execution_count": 1,
   "metadata": {},
   "outputs": [
    {
     "name": "stdout",
     "output_type": "stream",
     "text": [
      "--2021-11-03 09:41:40--  http://200.152.38.155/CNPJ/\n",
      "Connecting to 200.152.38.155:80... connected.\n",
      "HTTP request sent, awaiting response... 200 OK\n",
      "Length: unspecified [text/html]\n",
      "Saving to: ‘200.152.38.155/index.html.tmp’\n",
      "\n",
      "200.152.38.155/inde     [ <=>                ]   9,67K  --.-KB/s    in 0s      \n",
      "\n",
      "2021-11-03 09:41:41 (34,2 MB/s) - ‘200.152.38.155/index.html.tmp’ saved [9906]\n",
      "\n",
      "Loading robots.txt; please ignore errors.\n",
      "--2021-11-03 09:41:41--  http://200.152.38.155/robots.txt\n",
      "Reusing existing connection to 200.152.38.155:80.\n",
      "HTTP request sent, awaiting response... 404 Not Found\n",
      "2021-11-03 09:41:41 ERROR 404: Not Found.\n",
      "\n",
      "Removing 200.152.38.155/index.html.tmp since it should be rejected.\n",
      "\n",
      "--2021-11-03 09:41:41--  http://200.152.38.155/CNPJ/?C=N;O=D\n",
      "Reusing existing connection to 200.152.38.155:80.\n",
      "HTTP request sent, awaiting response... 200 OK\n",
      "Length: unspecified [text/html]\n",
      "Saving to: ‘200.152.38.155/index.html?C=N;O=D.tmp’\n",
      "\n",
      "200.152.38.155/inde     [ <=>                ]   9,67K  --.-KB/s    in 0s      \n",
      "\n",
      "2021-11-03 09:41:42 (76,8 MB/s) - ‘200.152.38.155/index.html?C=N;O=D.tmp’ saved [9906]\n",
      "\n",
      "Removing 200.152.38.155/index.html?C=N;O=D.tmp since it should be rejected.\n",
      "\n",
      "--2021-11-03 09:41:42--  http://200.152.38.155/CNPJ/?C=M;O=A\n",
      "Reusing existing connection to 200.152.38.155:80.\n",
      "HTTP request sent, awaiting response... 200 OK\n",
      "Length: unspecified [text/html]\n",
      "Saving to: ‘200.152.38.155/index.html?C=M;O=A.tmp’\n",
      "\n",
      "200.152.38.155/inde     [      <=>           ]   9,67K  3,50KB/s    in 2,8s    \n",
      "\n",
      "2021-11-03 09:41:45 (3,50 KB/s) - ‘200.152.38.155/index.html?C=M;O=A.tmp’ saved [9906]\n",
      "\n",
      "Removing 200.152.38.155/index.html?C=M;O=A.tmp since it should be rejected.\n",
      "\n",
      "--2021-11-03 09:41:45--  http://200.152.38.155/CNPJ/?C=S;O=A\n",
      "Reusing existing connection to 200.152.38.155:80.\n",
      "HTTP request sent, awaiting response... 200 OK\n",
      "Length: unspecified [text/html]\n",
      "Saving to: ‘200.152.38.155/index.html?C=S;O=A.tmp’\n",
      "\n",
      "200.152.38.155/inde     [    <=>             ]   9,67K  6,30KB/s    in 1,5s    \n",
      "\n",
      "2021-11-03 09:41:46 (6,30 KB/s) - ‘200.152.38.155/index.html?C=S;O=A.tmp’ saved [9906]\n",
      "\n",
      "Removing 200.152.38.155/index.html?C=S;O=A.tmp since it should be rejected.\n",
      "\n",
      "--2021-11-03 09:41:46--  http://200.152.38.155/CNPJ/?C=D;O=A\n",
      "Reusing existing connection to 200.152.38.155:80.\n",
      "HTTP request sent, awaiting response... 200 OK\n",
      "Length: unspecified [text/html]\n",
      "Saving to: ‘200.152.38.155/index.html?C=D;O=A.tmp’\n",
      "\n",
      "200.152.38.155/inde     [  <=>               ]   9,67K  31,5KB/s    in 0,3s    \n",
      "\n",
      "2021-11-03 09:41:47 (31,5 KB/s) - ‘200.152.38.155/index.html?C=D;O=A.tmp’ saved [9906]\n",
      "\n",
      "Removing 200.152.38.155/index.html?C=D;O=A.tmp since it should be rejected.\n",
      "\n",
      "--2021-11-03 09:41:47--  http://200.152.38.155/\n",
      "Reusing existing connection to 200.152.38.155:80.\n",
      "HTTP request sent, awaiting response... 200 OK\n",
      "Length: 0 [text/html]\n",
      "Saving to: ‘200.152.38.155/index.html.tmp’\n",
      "\n",
      "200.152.38.155/inde     [ <=>                ]       0  --.-KB/s    in 0s      \n",
      "\n",
      "2021-11-03 09:41:47 (0,00 B/s) - ‘200.152.38.155/index.html.tmp’ saved [0/0]\n",
      "\n",
      "Removing 200.152.38.155/index.html.tmp since it should be rejected.\n",
      "\n",
      "--2021-11-03 09:41:47--  http://200.152.38.155/CNPJ/F.K03200$W.SIMPLES.CSV.D11009.zip\n",
      "Reusing existing connection to 200.152.38.155:80.\n",
      "HTTP request sent, awaiting response... 200 OK\n",
      "Length: 161700114 (154M) [application/zip]\n",
      "Saving to: ‘200.152.38.155/F.K03200$W.SIMPLES.CSV.D11009.zip’\n",
      "\n",
      "        200.152.38.  11%[=>                  ]  17,01M   160KB/s    eta 16m 3s ^C\n"
     ]
    }
   ],
   "source": [
    "!bash downloader.sh"
   ]
  },
  {
   "cell_type": "markdown",
   "metadata": {},
   "source": [
    "Descompactando os arquivos:"
   ]
  },
  {
   "cell_type": "code",
   "execution_count": 2,
   "metadata": {},
   "outputs": [
    {
     "name": "stdout",
     "output_type": "stream",
     "text": [
      "arquivo descompactado:  K3241.K03200Y0.D10710.ESTABELE.zip\n",
      "arquivo descompactado:  K3241.K03200Y1.D10710.ESTABELE.zip\n",
      "arquivo descompactado:  K3241.K03200Y2.D10710.ESTABELE.zip\n",
      "arquivo descompactado:  K3241.K03200Y3.D10710.ESTABELE.zip\n",
      "arquivo descompactado:  K3241.K03200Y5.D10710.ESTABELE.zip\n",
      "arquivo descompactado:  K3241.K03200Y4.D10710.ESTABELE.zip\n",
      "arquivo descompactado:  K3241.K03200Y7.D10710.ESTABELE.zip\n",
      "arquivo descompactado:  K3241.K03200Y6.D10710.ESTABELE.zip\n",
      "arquivo descompactado:  K3241.K03200Y9.D10710.ESTABELE.zip\n",
      "arquivo descompactado:  K3241.K03200Y8.D10710.ESTABELE.zip\n",
      "arquivo descompactado:  F.K03200$Z.D10710.CNAECSV.zip\n",
      "arquivo descompactado:  F.K03200$Z.D10710.PAISCSV.zip\n",
      "arquivo descompactado:  K3241.K03200Y8.D10710.EMPRECSV.zip\n",
      "arquivo descompactado:  K3241.K03200Y9.D10710.EMPRECSV.zip\n",
      "arquivo descompactado:  F.K03200$Z.D10710.MOTICSV.zip\n",
      "arquivo descompactado:  K3241.K03200Y9.D10710.SOCIOCSV.zip\n",
      "arquivo descompactado:  K3241.K03200Y8.D10710.SOCIOCSV.zip\n",
      "arquivo descompactado:  F.K03200$Z.D10710.MUNICCSV.zip\n",
      "arquivo descompactado:  K3241.K03200Y5.D10710.SOCIOCSV.zip\n",
      "arquivo descompactado:  K3241.K03200Y3.D10710.EMPRECSV.zip\n",
      "arquivo descompactado:  K3241.K03200Y2.D10710.EMPRECSV.zip\n",
      "arquivo descompactado:  K3241.K03200Y4.D10710.SOCIOCSV.zip\n",
      "arquivo descompactado:  F.K03200$W.SIMPLES.CSV.D10710.zip\n",
      "arquivo descompactado:  K3241.K03200Y7.D10710.SOCIOCSV.zip\n",
      "arquivo descompactado:  K3241.K03200Y1.D10710.EMPRECSV.zip\n",
      "arquivo descompactado:  K3241.K03200Y0.D10710.EMPRECSV.zip\n",
      "arquivo descompactado:  K3241.K03200Y6.D10710.SOCIOCSV.zip\n",
      "arquivo descompactado:  F.K03200$Z.D10710.QUALSCSV.zip\n",
      "arquivo descompactado:  F.K03200$Z.D10710.NATJUCSV.zip\n",
      "arquivo descompactado:  K3241.K03200Y0.D10710.SOCIOCSV.zip\n",
      "arquivo descompactado:  K3241.K03200Y6.D10710.EMPRECSV.zip\n",
      "arquivo descompactado:  K3241.K03200Y7.D10710.EMPRECSV.zip\n",
      "arquivo descompactado:  K3241.K03200Y1.D10710.SOCIOCSV.zip\n",
      "arquivo descompactado:  K3241.K03200Y2.D10710.SOCIOCSV.zip\n",
      "arquivo descompactado:  K3241.K03200Y4.D10710.EMPRECSV.zip\n",
      "arquivo descompactado:  K3241.K03200Y5.D10710.EMPRECSV.zip\n",
      "arquivo descompactado:  K3241.K03200Y3.D10710.SOCIOCSV.zip\n"
     ]
    },
    {
     "data": {
      "text/plain": [
       "'arquivos descompactados com sucesso'"
      ]
     },
     "execution_count": 2,
     "metadata": {},
     "output_type": "execute_result"
    }
   ],
   "source": [
    "# bibliotecas\n",
    "import os \n",
    "import utils\n",
    "\n",
    "# buscando as variáveis\n",
    "path = os.getcwd()\n",
    "zipped = path + '/arquivos-zip/200.152.38.155/'\n",
    "unzipped = path + '/arquivos-unzip/'\n",
    "\n",
    "# iniciando o descompactador:\n",
    "utils.descompactando(caminho_do_arquivo=zipped, tipo_arquivo='.zip',destino=unzipped)"
   ]
  },
  {
   "cell_type": "markdown",
   "metadata": {},
   "source": [
    "# Como usar o leitor:\n",
    "\n",
    "A partir dos arquivos baixados, importe a biblioteca `leitor` e chame o método desejado. A biblioteca contem como os arquivos devem ser limpos para depois poderem ser interpretados. Uma vez executada, a biblioteca irá importar os dados para a memória do seu computador usando do paralelismo do spark.\n",
    "\n",
    "Depois de lido, os arquivos carregados poderão ser consultados usando comandos em SQL."
   ]
  },
  {
   "cell_type": "markdown",
   "metadata": {},
   "source": [
    "## Perfil dos Empresários do Brasil\n",
    "Aqui temos um exemplo de como usar o leitor com os arquivos de sócios e extraindo um breve perfil por faixa etária dos sócios das empresas brasileiras."
   ]
  },
  {
   "cell_type": "code",
   "execution_count": 5,
   "metadata": {},
   "outputs": [
    {
     "name": "stdout",
     "output_type": "stream",
     "text": [
      "+-----------+----------------------+--------------------+--------------+---------------------+-------------------------+----+-------------------+---------------------+-----------------------------------+------------+---------+------------------+\n",
      "|cnpj_basico|identificador_de_socio|       nome_do_socio|cnpj_cpf_socio|qualificacao_do_socio|data_de_entrada_sociedade|pais|representante_legal|nome_do_representante|qualificacao_do_representante_legal|faixa_etaria|cod_faixa| desc_faixa_etaria|\n",
      "+-----------+----------------------+--------------------+--------------+---------------------+-------------------------+----+-------------------+---------------------+-----------------------------------+------------+---------+------------------+\n",
      "|   17872629|                     2|KARINA FERREIRA S...|   ***945998**|                   65|                 20130404|null|        ***000000**|                 null|                                 00|           4|        4|Entre 31 a 40 anos|\n",
      "|   18331805|                     2|VICTOR HUGO BORGE...|   ***762916**|                   49|                 20130619|null|        ***000000**|                 null|                                 00|           4|        4|Entre 31 a 40 anos|\n",
      "|   18331805|                     1|SANTOS PARTICIPAC...|18055282000190|                   22|                 20130619|null|        ***762916**| VICTOR HUGO BORGE...|                                 05|           0|        0|     Nao se aplica|\n",
      "|   09006201|                     2| FLAVIO JOSE RAMALHO|   ***788809**|                   49|                 20070629|null|        ***000000**|                 null|                                 00|           6|        6|Entre 51 a 60 anos|\n",
      "|   16683249|                     2|BEVAN LLOYD WILLIAMS|   ***723891**|                   49|                 20190327|null|        ***000000**|                 null|                                 00|           4|        4|Entre 31 a 40 anos|\n",
      "|   16683249|                     2|DAYANY SANTOS BAR...|   ***303696**|                   49|                 20190327|null|        ***000000**|                 null|                                 00|           4|        4|Entre 31 a 40 anos|\n",
      "|   25213022|                     2|ANGELO POSSEBON J...|   ***312898**|                   49|                 20160715|null|        ***000000**|                 null|                                 00|           6|        6|Entre 51 a 60 anos|\n",
      "|   25213022|                     2|DEBORA REGINA OLI...|   ***681558**|                   49|                 20190806|null|        ***000000**|                 null|                                 00|           6|        6|Entre 51 a 60 anos|\n",
      "|   18545031|                     2|CRIS DAIANE DE SO...|   ***125508**|                   49|                 20210609|null|        ***000000**|                 null|                                 00|           4|        4|Entre 31 a 40 anos|\n",
      "|   19708495|                     2|MONIELLE VAZ DE O...|   ***539288**|                   49|                 20140211|null|        ***000000**|                 null|                                 00|           3|        3|Entre 21 a 30 anos|\n",
      "+-----------+----------------------+--------------------+--------------+---------------------+-------------------------+----+-------------------+---------------------+-----------------------------------+------------+---------+------------------+\n",
      "only showing top 10 rows\n",
      "\n"
     ]
    },
    {
     "data": {
      "text/plain": [
       "'tabela de socios carregada com sucesso'"
      ]
     },
     "execution_count": 5,
     "metadata": {},
     "output_type": "execute_result"
    }
   ],
   "source": [
    "# spark configs:\n",
    "spark_session, sqlContext, sc = utils.spark_configs(memory='6G')\n",
    "\n",
    "# carregando os dados\n",
    "import leitor\n",
    "\n",
    "leitor.importador_socios(arquivo='arquivos-unzip/K3241.K03200Y*.D10710.SOCIOCSV',separador=';',previsualizacao=True)"
   ]
  },
  {
   "cell_type": "code",
   "execution_count": 6,
   "metadata": {},
   "outputs": [
    {
     "name": "stdout",
     "output_type": "stream",
     "text": [
      "+------------------+----------+\n",
      "| desc_faixa_etaria|frequencia|\n",
      "+------------------+----------+\n",
      "|Entre 41 a 50 anos|   5053330|\n",
      "|Entre 51 a 60 anos|   4443532|\n",
      "|Entre 31 a 40 anos|   4028059|\n",
      "|Entre 61 a 70 anos|   3103257|\n",
      "|Entre 71 a 80 anos|   1421454|\n",
      "|Entre 21 a 30 anos|   1332746|\n",
      "|Maiores de 80 anos|    682894|\n",
      "|     Nao se aplica|    432114|\n",
      "|Entre 13 a 20 anos|    117303|\n",
      "| Entre 0 a 12 anos|     29251|\n",
      "+------------------+----------+\n",
      "\n"
     ]
    }
   ],
   "source": [
    "# empresarios por idade\n",
    "query_idade = \"\"\"\n",
    "    SELECT \n",
    "        desc_faixa_etaria,\n",
    "        COUNT(cnpj_basico) AS frequencia\n",
    "    FROM socios\n",
    "    GROUP BY 1 \n",
    "    ORDER BY 2 DESC\n",
    "    \"\"\"\n",
    "por_idade = sqlContext.sql(query_idade)\n",
    "por_idade.show()\n"
   ]
  },
  {
   "cell_type": "markdown",
   "metadata": {},
   "source": [
    "-- Fim --"
   ]
  }
 ],
 "metadata": {
  "interpreter": {
   "hash": "aee8b7b246df8f9039afb4144a1f6fd8d2ca17a180786b69acc140d282b71a49"
  },
  "kernelspec": {
   "display_name": "Python 3.9.1 64-bit",
   "name": "python3"
  },
  "language_info": {
   "codemirror_mode": {
    "name": "ipython",
    "version": 3
   },
   "file_extension": ".py",
   "mimetype": "text/x-python",
   "name": "python",
   "nbconvert_exporter": "python",
   "pygments_lexer": "ipython3",
   "version": "3.9.1"
  },
  "orig_nbformat": 2
 },
 "nbformat": 4,
 "nbformat_minor": 2
}
